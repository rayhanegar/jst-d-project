{
 "cells": [
  {
   "cell_type": "markdown",
   "metadata": {},
   "source": [
    "# Backpropagation ANN Implementation"
   ]
  },
  {
   "cell_type": "markdown",
   "metadata": {},
   "source": [
    "## Class Definition"
   ]
  },
  {
   "cell_type": "code",
   "execution_count": 1,
   "metadata": {},
   "outputs": [],
   "source": [
    "import numpy as np\n",
    "from sklearn.model_selection import train_test_split, GridSearchCV\n",
    "from sklearn.base import BaseEstimator, ClassifierMixin\n",
    "from sklearn.metrics import accuracy_score\n",
    "from sklearn.datasets import make_classification\n",
    "from scipy.special import softmax"
   ]
  },
  {
   "cell_type": "code",
   "execution_count": null,
   "metadata": {},
   "outputs": [],
   "source": [
    "class BackpropagationModel(BaseEstimator, ClassifierMixin):\n",
    "    def __init__(self, layer_conf, max_epoch=1000, max_error=0.1, learn_rate=0.5, print_per_epoch=100):\n",
    "        self.layer_conf = layer_conf\n",
    "        self.max_epoch = max_epoch\n",
    "        self.max_error = max_error\n",
    "        self.learn_rate = learn_rate\n",
    "        self.print_per_epoch = print_per_epoch\n",
    "        self.w = None\n",
    "        self.epoch = 0\n",
    "        self.mse = 1\n",
    "        self.classes_ = None\n",
    "\n",
    "    def _initialize_weights(self):\n",
    "        np.random.seed(1)\n",
    "        self.w = [np.random.rand(self.layer_conf[i] + 1, self.layer_conf[i+1]) * 0.1 \n",
    "                  for i in range(len(self.layer_conf) - 1)]\n",
    "\n",
    "    @staticmethod\n",
    "    def sig(X):\n",
    "        return 1 / (1 + np.exp(-X))\n",
    "\n",
    "    @staticmethod\n",
    "    def sigd(X):\n",
    "        s = BackpropagationModel.sig(X)\n",
    "        return s * (1 - s)\n",
    "\n",
    "    def _softmax(self, x):\n",
    "        return softmax(x, axis=0)\n",
    "\n",
    "    def bp_fit(self, X, target):\n",
    "        X = np.hstack([X, np.ones((X.shape[0], 1))])  # Add bias term to input\n",
    "        self.classes_ = np.unique(target)  # Unique classes in the target\n",
    "        is_binary = len(self.classes_) == 2  # Determine binary vs. multi-class\n",
    "\n",
    "        # One-hot encode target for multi-class; for binary, retain original 0/1 labels\n",
    "        y = np.eye(len(self.classes_))[target] if not is_binary else target.reshape(-1, 1)\n",
    "\n",
    "        self._initialize_weights()\n",
    "        epoch, mse = 0, 1\n",
    "\n",
    "        while (self.max_epoch == -1 or epoch < self.max_epoch) and mse > self.max_error:\n",
    "            epoch += 1\n",
    "            mse = 0\n",
    "            \n",
    "            for r in range(len(X)):\n",
    "                # Forward pass\n",
    "                n = [X[r]]\n",
    "                for L in range(len(self.w)):\n",
    "                    activation = np.dot(n[L], self.w[L])\n",
    "                    # Apply sigmoid for hidden layers, and use appropriate activation for output\n",
    "                    layer_output = (self.sig(activation) if L < len(self.w) - 1 \n",
    "                                    else (self.sig(activation) if is_binary else self._softmax(activation)))\n",
    "                    n.append(np.append(layer_output, 1) if L < len(self.w) - 1 else layer_output)\n",
    "                \n",
    "                # Calculate error and MSE\n",
    "                e = y[r] - n[-1]\n",
    "                mse += np.sum(e ** 2)\n",
    "\n",
    "                # Determine delta based on classification type\n",
    "                if is_binary:\n",
    "                    d = e * self.sigd(np.dot(n[-2], self.w[-1]))  # Binary cross-entropy derivative\n",
    "                else:\n",
    "                    d = e  # Cross-entropy derivative for multi-class softmax\n",
    "\n",
    "                # Backward pass with weight updates\n",
    "                for L in range(len(self.w) - 1, -1, -1):\n",
    "                    dw = self.learn_rate * np.outer(n[L], d)\n",
    "                    self.w[L] += dw\n",
    "                    if L > 0:\n",
    "                        d = np.dot(d, self.w[L][:-1].T) * self.sigd(np.dot(n[L-1], self.w[L-1]))\n",
    "\n",
    "            mse /= len(X)\n",
    "            if self.print_per_epoch > -1 and epoch % self.print_per_epoch == 0:\n",
    "                print(f'Epoch {epoch}, MSE: {mse:.6f}')\n",
    "\n",
    "        self.epoch = epoch\n",
    "        self.mse = mse\n",
    "\n",
    "    def bp_predict(self, X):\n",
    "        X = np.hstack([X, np.ones((X.shape[0], 1))])  # Add bias term to input\n",
    "        predictions = []\n",
    "\n",
    "        for x in X:\n",
    "            n = x\n",
    "            for layer_weights in self.w:\n",
    "                activation = np.dot(n, layer_weights)\n",
    "                # Apply appropriate activation in the output layer\n",
    "                n = (self.sig(activation) if layer_weights is not self.w[-1] \n",
    "                     else (self.sig(activation) if len(self.classes_) == 2 else self._softmax(activation)))\n",
    "                n = np.append(n, 1) if layer_weights is not self.w[-1] else n\n",
    "            predictions.append(n)\n",
    "\n",
    "        return np.array(predictions)\n",
    "\n",
    "    def fit(self, X, y):\n",
    "        self.bp_fit(X, y)\n",
    "        return self\n",
    "\n",
    "    def predict(self, X):\n",
    "        predictions = self.bp_predict(X)\n",
    "        # For binary, threshold at 0.5; for multi-class, take argmax\n",
    "        return (predictions > 0.5).astype(int) if len(self.classes_) == 2 else np.argmax(predictions, axis=1)\n",
    "\n",
    "    def score(self, X, y):\n",
    "        predictions = self.predict(X)\n",
    "        return accuracy_score(y, predictions)\n",
    "\n",
    "    def get_params(self, deep=True):\n",
    "        return {\n",
    "            'layer_conf': self.layer_conf,\n",
    "            'max_epoch': self.max_epoch,\n",
    "            'max_error': self.max_error,\n",
    "            'learn_rate': self.learn_rate,\n",
    "            'print_per_epoch': self.print_per_epoch\n",
    "        }\n",
    "\n",
    "    def set_params(self, **params):\n",
    "        for param, value in params.items():\n",
    "            setattr(self, param, value)\n",
    "        return self"
   ]
  },
  {
   "cell_type": "markdown",
   "metadata": {},
   "source": [
    "## Example Dataset (Binary)"
   ]
  },
  {
   "cell_type": "code",
   "execution_count": 3,
   "metadata": {},
   "outputs": [],
   "source": [
    "X, y = make_classification(n_samples=500, n_features=10, n_informative=8, n_classes=2, random_state=42)\n",
    "X_train, X_test, y_train, y_test=  train_test_split(X, y, test_size=.2, random_state=42)"
   ]
  },
  {
   "cell_type": "markdown",
   "metadata": {},
   "source": [
    "## Example Usage (Binary)"
   ]
  },
  {
   "cell_type": "code",
   "execution_count": 4,
   "metadata": {},
   "outputs": [],
   "source": [
    "layer_conf = [10, 5, 1]"
   ]
  },
  {
   "cell_type": "code",
   "execution_count": 5,
   "metadata": {},
   "outputs": [],
   "source": [
    "model = BackpropagationModel(layer_conf=layer_conf)\n",
    "\n",
    "param_grid = {\n",
    "    'max_epoch':[500, 1000],\n",
    "    'learn_rate':[.1, .5, 1],\n",
    "    'max_error':[.01, .1, .2],\n",
    "    'print_per_epoch': [-1]\n",
    "}"
   ]
  },
  {
   "cell_type": "code",
   "execution_count": 6,
   "metadata": {},
   "outputs": [
    {
     "name": "stdout",
     "output_type": "stream",
     "text": [
      "Fitting 3 folds for each of 18 candidates, totalling 54 fits\n"
     ]
    },
    {
     "name": "stdout",
     "output_type": "stream",
     "text": [
      "[CV] END learn_rate=0.1, max_epoch=500, max_error=0.2, print_per_epoch=-1; total time=   0.1s\n",
      "[CV] END learn_rate=0.1, max_epoch=500, max_error=0.2, print_per_epoch=-1; total time=   0.1s\n",
      "[CV] END learn_rate=0.1, max_epoch=500, max_error=0.2, print_per_epoch=-1; total time=   0.1s\n",
      "[CV] END learn_rate=0.1, max_epoch=1000, max_error=0.2, print_per_epoch=-1; total time=   0.1s\n",
      "[CV] END learn_rate=0.1, max_epoch=1000, max_error=0.2, print_per_epoch=-1; total time=   0.2s\n",
      "[CV] END learn_rate=0.1, max_epoch=1000, max_error=0.2, print_per_epoch=-1; total time=   0.2s\n",
      "[CV] END learn_rate=0.1, max_epoch=500, max_error=0.1, print_per_epoch=-1; total time=   0.5s\n",
      "[CV] END learn_rate=0.1, max_epoch=500, max_error=0.1, print_per_epoch=-1; total time=   0.6s\n",
      "[CV] END learn_rate=0.5, max_epoch=500, max_error=0.1, print_per_epoch=-1; total time=   0.4s\n",
      "[CV] END learn_rate=0.1, max_epoch=1000, max_error=0.1, print_per_epoch=-1; total time=   0.6s\n",
      "[CV] END learn_rate=0.5, max_epoch=500, max_error=0.1, print_per_epoch=-1; total time=   0.2s\n",
      "[CV] END learn_rate=0.5, max_epoch=500, max_error=0.2, print_per_epoch=-1; total time=   0.0s\n",
      "[CV] END learn_rate=0.5, max_epoch=500, max_error=0.2, print_per_epoch=-1; total time=   0.0s\n",
      "[CV] END learn_rate=0.5, max_epoch=500, max_error=0.2, print_per_epoch=-1; total time=   0.1s\n",
      "[CV] END learn_rate=0.5, max_epoch=500, max_error=0.1, print_per_epoch=-1; total time=   0.2s\n",
      "[CV] END learn_rate=0.1, max_epoch=500, max_error=0.1, print_per_epoch=-1; total time=   0.8s\n",
      "[CV] END learn_rate=0.1, max_epoch=1000, max_error=0.1, print_per_epoch=-1; total time=   0.9s\n",
      "[CV] END learn_rate=0.1, max_epoch=1000, max_error=0.1, print_per_epoch=-1; total time=   0.9s\n",
      "[CV] END learn_rate=0.5, max_epoch=1000, max_error=0.1, print_per_epoch=-1; total time=   0.2s\n",
      "[CV] END learn_rate=0.5, max_epoch=1000, max_error=0.2, print_per_epoch=-1; total time=   0.1s\n",
      "[CV] END learn_rate=0.5, max_epoch=1000, max_error=0.1, print_per_epoch=-1; total time=   0.3s\n",
      "[CV] END learn_rate=0.5, max_epoch=1000, max_error=0.1, print_per_epoch=-1; total time=   0.2s\n",
      "[CV] END learn_rate=0.5, max_epoch=1000, max_error=0.2, print_per_epoch=-1; total time=   0.0s\n",
      "[CV] END learn_rate=0.5, max_epoch=1000, max_error=0.2, print_per_epoch=-1; total time=   0.0s\n",
      "[CV] END learn_rate=1, max_epoch=500, max_error=0.1, print_per_epoch=-1; total time=   0.5s\n",
      "[CV] END learn_rate=1, max_epoch=500, max_error=0.1, print_per_epoch=-1; total time=   0.3s\n",
      "[CV] END learn_rate=1, max_epoch=500, max_error=0.1, print_per_epoch=-1; total time=   0.1s\n",
      "[CV] END learn_rate=1, max_epoch=500, max_error=0.2, print_per_epoch=-1; total time=   0.1s\n",
      "[CV] END learn_rate=1, max_epoch=500, max_error=0.2, print_per_epoch=-1; total time=   0.1s\n",
      "[CV] END learn_rate=1, max_epoch=500, max_error=0.2, print_per_epoch=-1; total time=   0.1s\n",
      "[CV] END learn_rate=0.5, max_epoch=500, max_error=0.01, print_per_epoch=-1; total time=   7.6s\n",
      "[CV] END learn_rate=0.1, max_epoch=500, max_error=0.01, print_per_epoch=-1; total time=   8.2s\n",
      "[CV] END learn_rate=0.1, max_epoch=500, max_error=0.01, print_per_epoch=-1; total time=   8.2s\n",
      "[CV] END learn_rate=0.1, max_epoch=500, max_error=0.01, print_per_epoch=-1; total time=   8.4s\n",
      "[CV] END learn_rate=1, max_epoch=1000, max_error=0.1, print_per_epoch=-1; total time=   0.5s\n",
      "[CV] END learn_rate=1, max_epoch=1000, max_error=0.1, print_per_epoch=-1; total time=   0.3s\n",
      "[CV] END learn_rate=0.5, max_epoch=500, max_error=0.01, print_per_epoch=-1; total time=   8.4s\n",
      "[CV] END learn_rate=1, max_epoch=1000, max_error=0.2, print_per_epoch=-1; total time=   0.0s\n",
      "[CV] END learn_rate=1, max_epoch=1000, max_error=0.2, print_per_epoch=-1; total time=   0.0s\n",
      "[CV] END learn_rate=1, max_epoch=1000, max_error=0.2, print_per_epoch=-1; total time=   0.1s\n",
      "[CV] END learn_rate=1, max_epoch=1000, max_error=0.1, print_per_epoch=-1; total time=   0.1s\n",
      "[CV] END learn_rate=1, max_epoch=500, max_error=0.01, print_per_epoch=-1; total time=   7.7s\n",
      "[CV] END learn_rate=0.5, max_epoch=500, max_error=0.01, print_per_epoch=-1; total time=   9.0s\n",
      "[CV] END learn_rate=1, max_epoch=500, max_error=0.01, print_per_epoch=-1; total time=   8.3s\n",
      "[CV] END learn_rate=1, max_epoch=500, max_error=0.01, print_per_epoch=-1; total time=   8.9s\n",
      "[CV] END learn_rate=0.5, max_epoch=1000, max_error=0.01, print_per_epoch=-1; total time=  15.2s\n",
      "[CV] END learn_rate=0.1, max_epoch=1000, max_error=0.01, print_per_epoch=-1; total time=  16.3s\n",
      "[CV] END learn_rate=0.5, max_epoch=1000, max_error=0.01, print_per_epoch=-1; total time=  15.6s\n",
      "[CV] END learn_rate=0.1, max_epoch=1000, max_error=0.01, print_per_epoch=-1; total time=  16.8s\n",
      "[CV] END learn_rate=0.5, max_epoch=1000, max_error=0.01, print_per_epoch=-1; total time=  16.2s\n",
      "[CV] END learn_rate=0.1, max_epoch=1000, max_error=0.01, print_per_epoch=-1; total time=  17.1s\n",
      "[CV] END learn_rate=1, max_epoch=1000, max_error=0.01, print_per_epoch=-1; total time=  17.2s\n",
      "[CV] END learn_rate=1, max_epoch=1000, max_error=0.01, print_per_epoch=-1; total time=  15.0s\n",
      "[CV] END learn_rate=1, max_epoch=1000, max_error=0.01, print_per_epoch=-1; total time=  15.6s\n"
     ]
    },
    {
     "data": {
      "text/html": [
       "<style>#sk-container-id-1 {\n",
       "  /* Definition of color scheme common for light and dark mode */\n",
       "  --sklearn-color-text: black;\n",
       "  --sklearn-color-line: gray;\n",
       "  /* Definition of color scheme for unfitted estimators */\n",
       "  --sklearn-color-unfitted-level-0: #fff5e6;\n",
       "  --sklearn-color-unfitted-level-1: #f6e4d2;\n",
       "  --sklearn-color-unfitted-level-2: #ffe0b3;\n",
       "  --sklearn-color-unfitted-level-3: chocolate;\n",
       "  /* Definition of color scheme for fitted estimators */\n",
       "  --sklearn-color-fitted-level-0: #f0f8ff;\n",
       "  --sklearn-color-fitted-level-1: #d4ebff;\n",
       "  --sklearn-color-fitted-level-2: #b3dbfd;\n",
       "  --sklearn-color-fitted-level-3: cornflowerblue;\n",
       "\n",
       "  /* Specific color for light theme */\n",
       "  --sklearn-color-text-on-default-background: var(--sg-text-color, var(--theme-code-foreground, var(--jp-content-font-color1, black)));\n",
       "  --sklearn-color-background: var(--sg-background-color, var(--theme-background, var(--jp-layout-color0, white)));\n",
       "  --sklearn-color-border-box: var(--sg-text-color, var(--theme-code-foreground, var(--jp-content-font-color1, black)));\n",
       "  --sklearn-color-icon: #696969;\n",
       "\n",
       "  @media (prefers-color-scheme: dark) {\n",
       "    /* Redefinition of color scheme for dark theme */\n",
       "    --sklearn-color-text-on-default-background: var(--sg-text-color, var(--theme-code-foreground, var(--jp-content-font-color1, white)));\n",
       "    --sklearn-color-background: var(--sg-background-color, var(--theme-background, var(--jp-layout-color0, #111)));\n",
       "    --sklearn-color-border-box: var(--sg-text-color, var(--theme-code-foreground, var(--jp-content-font-color1, white)));\n",
       "    --sklearn-color-icon: #878787;\n",
       "  }\n",
       "}\n",
       "\n",
       "#sk-container-id-1 {\n",
       "  color: var(--sklearn-color-text);\n",
       "}\n",
       "\n",
       "#sk-container-id-1 pre {\n",
       "  padding: 0;\n",
       "}\n",
       "\n",
       "#sk-container-id-1 input.sk-hidden--visually {\n",
       "  border: 0;\n",
       "  clip: rect(1px 1px 1px 1px);\n",
       "  clip: rect(1px, 1px, 1px, 1px);\n",
       "  height: 1px;\n",
       "  margin: -1px;\n",
       "  overflow: hidden;\n",
       "  padding: 0;\n",
       "  position: absolute;\n",
       "  width: 1px;\n",
       "}\n",
       "\n",
       "#sk-container-id-1 div.sk-dashed-wrapped {\n",
       "  border: 1px dashed var(--sklearn-color-line);\n",
       "  margin: 0 0.4em 0.5em 0.4em;\n",
       "  box-sizing: border-box;\n",
       "  padding-bottom: 0.4em;\n",
       "  background-color: var(--sklearn-color-background);\n",
       "}\n",
       "\n",
       "#sk-container-id-1 div.sk-container {\n",
       "  /* jupyter's `normalize.less` sets `[hidden] { display: none; }`\n",
       "     but bootstrap.min.css set `[hidden] { display: none !important; }`\n",
       "     so we also need the `!important` here to be able to override the\n",
       "     default hidden behavior on the sphinx rendered scikit-learn.org.\n",
       "     See: https://github.com/scikit-learn/scikit-learn/issues/21755 */\n",
       "  display: inline-block !important;\n",
       "  position: relative;\n",
       "}\n",
       "\n",
       "#sk-container-id-1 div.sk-text-repr-fallback {\n",
       "  display: none;\n",
       "}\n",
       "\n",
       "div.sk-parallel-item,\n",
       "div.sk-serial,\n",
       "div.sk-item {\n",
       "  /* draw centered vertical line to link estimators */\n",
       "  background-image: linear-gradient(var(--sklearn-color-text-on-default-background), var(--sklearn-color-text-on-default-background));\n",
       "  background-size: 2px 100%;\n",
       "  background-repeat: no-repeat;\n",
       "  background-position: center center;\n",
       "}\n",
       "\n",
       "/* Parallel-specific style estimator block */\n",
       "\n",
       "#sk-container-id-1 div.sk-parallel-item::after {\n",
       "  content: \"\";\n",
       "  width: 100%;\n",
       "  border-bottom: 2px solid var(--sklearn-color-text-on-default-background);\n",
       "  flex-grow: 1;\n",
       "}\n",
       "\n",
       "#sk-container-id-1 div.sk-parallel {\n",
       "  display: flex;\n",
       "  align-items: stretch;\n",
       "  justify-content: center;\n",
       "  background-color: var(--sklearn-color-background);\n",
       "  position: relative;\n",
       "}\n",
       "\n",
       "#sk-container-id-1 div.sk-parallel-item {\n",
       "  display: flex;\n",
       "  flex-direction: column;\n",
       "}\n",
       "\n",
       "#sk-container-id-1 div.sk-parallel-item:first-child::after {\n",
       "  align-self: flex-end;\n",
       "  width: 50%;\n",
       "}\n",
       "\n",
       "#sk-container-id-1 div.sk-parallel-item:last-child::after {\n",
       "  align-self: flex-start;\n",
       "  width: 50%;\n",
       "}\n",
       "\n",
       "#sk-container-id-1 div.sk-parallel-item:only-child::after {\n",
       "  width: 0;\n",
       "}\n",
       "\n",
       "/* Serial-specific style estimator block */\n",
       "\n",
       "#sk-container-id-1 div.sk-serial {\n",
       "  display: flex;\n",
       "  flex-direction: column;\n",
       "  align-items: center;\n",
       "  background-color: var(--sklearn-color-background);\n",
       "  padding-right: 1em;\n",
       "  padding-left: 1em;\n",
       "}\n",
       "\n",
       "\n",
       "/* Toggleable style: style used for estimator/Pipeline/ColumnTransformer box that is\n",
       "clickable and can be expanded/collapsed.\n",
       "- Pipeline and ColumnTransformer use this feature and define the default style\n",
       "- Estimators will overwrite some part of the style using the `sk-estimator` class\n",
       "*/\n",
       "\n",
       "/* Pipeline and ColumnTransformer style (default) */\n",
       "\n",
       "#sk-container-id-1 div.sk-toggleable {\n",
       "  /* Default theme specific background. It is overwritten whether we have a\n",
       "  specific estimator or a Pipeline/ColumnTransformer */\n",
       "  background-color: var(--sklearn-color-background);\n",
       "}\n",
       "\n",
       "/* Toggleable label */\n",
       "#sk-container-id-1 label.sk-toggleable__label {\n",
       "  cursor: pointer;\n",
       "  display: block;\n",
       "  width: 100%;\n",
       "  margin-bottom: 0;\n",
       "  padding: 0.5em;\n",
       "  box-sizing: border-box;\n",
       "  text-align: center;\n",
       "}\n",
       "\n",
       "#sk-container-id-1 label.sk-toggleable__label-arrow:before {\n",
       "  /* Arrow on the left of the label */\n",
       "  content: \"▸\";\n",
       "  float: left;\n",
       "  margin-right: 0.25em;\n",
       "  color: var(--sklearn-color-icon);\n",
       "}\n",
       "\n",
       "#sk-container-id-1 label.sk-toggleable__label-arrow:hover:before {\n",
       "  color: var(--sklearn-color-text);\n",
       "}\n",
       "\n",
       "/* Toggleable content - dropdown */\n",
       "\n",
       "#sk-container-id-1 div.sk-toggleable__content {\n",
       "  max-height: 0;\n",
       "  max-width: 0;\n",
       "  overflow: hidden;\n",
       "  text-align: left;\n",
       "  /* unfitted */\n",
       "  background-color: var(--sklearn-color-unfitted-level-0);\n",
       "}\n",
       "\n",
       "#sk-container-id-1 div.sk-toggleable__content.fitted {\n",
       "  /* fitted */\n",
       "  background-color: var(--sklearn-color-fitted-level-0);\n",
       "}\n",
       "\n",
       "#sk-container-id-1 div.sk-toggleable__content pre {\n",
       "  margin: 0.2em;\n",
       "  border-radius: 0.25em;\n",
       "  color: var(--sklearn-color-text);\n",
       "  /* unfitted */\n",
       "  background-color: var(--sklearn-color-unfitted-level-0);\n",
       "}\n",
       "\n",
       "#sk-container-id-1 div.sk-toggleable__content.fitted pre {\n",
       "  /* unfitted */\n",
       "  background-color: var(--sklearn-color-fitted-level-0);\n",
       "}\n",
       "\n",
       "#sk-container-id-1 input.sk-toggleable__control:checked~div.sk-toggleable__content {\n",
       "  /* Expand drop-down */\n",
       "  max-height: 200px;\n",
       "  max-width: 100%;\n",
       "  overflow: auto;\n",
       "}\n",
       "\n",
       "#sk-container-id-1 input.sk-toggleable__control:checked~label.sk-toggleable__label-arrow:before {\n",
       "  content: \"▾\";\n",
       "}\n",
       "\n",
       "/* Pipeline/ColumnTransformer-specific style */\n",
       "\n",
       "#sk-container-id-1 div.sk-label input.sk-toggleable__control:checked~label.sk-toggleable__label {\n",
       "  color: var(--sklearn-color-text);\n",
       "  background-color: var(--sklearn-color-unfitted-level-2);\n",
       "}\n",
       "\n",
       "#sk-container-id-1 div.sk-label.fitted input.sk-toggleable__control:checked~label.sk-toggleable__label {\n",
       "  background-color: var(--sklearn-color-fitted-level-2);\n",
       "}\n",
       "\n",
       "/* Estimator-specific style */\n",
       "\n",
       "/* Colorize estimator box */\n",
       "#sk-container-id-1 div.sk-estimator input.sk-toggleable__control:checked~label.sk-toggleable__label {\n",
       "  /* unfitted */\n",
       "  background-color: var(--sklearn-color-unfitted-level-2);\n",
       "}\n",
       "\n",
       "#sk-container-id-1 div.sk-estimator.fitted input.sk-toggleable__control:checked~label.sk-toggleable__label {\n",
       "  /* fitted */\n",
       "  background-color: var(--sklearn-color-fitted-level-2);\n",
       "}\n",
       "\n",
       "#sk-container-id-1 div.sk-label label.sk-toggleable__label,\n",
       "#sk-container-id-1 div.sk-label label {\n",
       "  /* The background is the default theme color */\n",
       "  color: var(--sklearn-color-text-on-default-background);\n",
       "}\n",
       "\n",
       "/* On hover, darken the color of the background */\n",
       "#sk-container-id-1 div.sk-label:hover label.sk-toggleable__label {\n",
       "  color: var(--sklearn-color-text);\n",
       "  background-color: var(--sklearn-color-unfitted-level-2);\n",
       "}\n",
       "\n",
       "/* Label box, darken color on hover, fitted */\n",
       "#sk-container-id-1 div.sk-label.fitted:hover label.sk-toggleable__label.fitted {\n",
       "  color: var(--sklearn-color-text);\n",
       "  background-color: var(--sklearn-color-fitted-level-2);\n",
       "}\n",
       "\n",
       "/* Estimator label */\n",
       "\n",
       "#sk-container-id-1 div.sk-label label {\n",
       "  font-family: monospace;\n",
       "  font-weight: bold;\n",
       "  display: inline-block;\n",
       "  line-height: 1.2em;\n",
       "}\n",
       "\n",
       "#sk-container-id-1 div.sk-label-container {\n",
       "  text-align: center;\n",
       "}\n",
       "\n",
       "/* Estimator-specific */\n",
       "#sk-container-id-1 div.sk-estimator {\n",
       "  font-family: monospace;\n",
       "  border: 1px dotted var(--sklearn-color-border-box);\n",
       "  border-radius: 0.25em;\n",
       "  box-sizing: border-box;\n",
       "  margin-bottom: 0.5em;\n",
       "  /* unfitted */\n",
       "  background-color: var(--sklearn-color-unfitted-level-0);\n",
       "}\n",
       "\n",
       "#sk-container-id-1 div.sk-estimator.fitted {\n",
       "  /* fitted */\n",
       "  background-color: var(--sklearn-color-fitted-level-0);\n",
       "}\n",
       "\n",
       "/* on hover */\n",
       "#sk-container-id-1 div.sk-estimator:hover {\n",
       "  /* unfitted */\n",
       "  background-color: var(--sklearn-color-unfitted-level-2);\n",
       "}\n",
       "\n",
       "#sk-container-id-1 div.sk-estimator.fitted:hover {\n",
       "  /* fitted */\n",
       "  background-color: var(--sklearn-color-fitted-level-2);\n",
       "}\n",
       "\n",
       "/* Specification for estimator info (e.g. \"i\" and \"?\") */\n",
       "\n",
       "/* Common style for \"i\" and \"?\" */\n",
       "\n",
       ".sk-estimator-doc-link,\n",
       "a:link.sk-estimator-doc-link,\n",
       "a:visited.sk-estimator-doc-link {\n",
       "  float: right;\n",
       "  font-size: smaller;\n",
       "  line-height: 1em;\n",
       "  font-family: monospace;\n",
       "  background-color: var(--sklearn-color-background);\n",
       "  border-radius: 1em;\n",
       "  height: 1em;\n",
       "  width: 1em;\n",
       "  text-decoration: none !important;\n",
       "  margin-left: 1ex;\n",
       "  /* unfitted */\n",
       "  border: var(--sklearn-color-unfitted-level-1) 1pt solid;\n",
       "  color: var(--sklearn-color-unfitted-level-1);\n",
       "}\n",
       "\n",
       ".sk-estimator-doc-link.fitted,\n",
       "a:link.sk-estimator-doc-link.fitted,\n",
       "a:visited.sk-estimator-doc-link.fitted {\n",
       "  /* fitted */\n",
       "  border: var(--sklearn-color-fitted-level-1) 1pt solid;\n",
       "  color: var(--sklearn-color-fitted-level-1);\n",
       "}\n",
       "\n",
       "/* On hover */\n",
       "div.sk-estimator:hover .sk-estimator-doc-link:hover,\n",
       ".sk-estimator-doc-link:hover,\n",
       "div.sk-label-container:hover .sk-estimator-doc-link:hover,\n",
       ".sk-estimator-doc-link:hover {\n",
       "  /* unfitted */\n",
       "  background-color: var(--sklearn-color-unfitted-level-3);\n",
       "  color: var(--sklearn-color-background);\n",
       "  text-decoration: none;\n",
       "}\n",
       "\n",
       "div.sk-estimator.fitted:hover .sk-estimator-doc-link.fitted:hover,\n",
       ".sk-estimator-doc-link.fitted:hover,\n",
       "div.sk-label-container:hover .sk-estimator-doc-link.fitted:hover,\n",
       ".sk-estimator-doc-link.fitted:hover {\n",
       "  /* fitted */\n",
       "  background-color: var(--sklearn-color-fitted-level-3);\n",
       "  color: var(--sklearn-color-background);\n",
       "  text-decoration: none;\n",
       "}\n",
       "\n",
       "/* Span, style for the box shown on hovering the info icon */\n",
       ".sk-estimator-doc-link span {\n",
       "  display: none;\n",
       "  z-index: 9999;\n",
       "  position: relative;\n",
       "  font-weight: normal;\n",
       "  right: .2ex;\n",
       "  padding: .5ex;\n",
       "  margin: .5ex;\n",
       "  width: min-content;\n",
       "  min-width: 20ex;\n",
       "  max-width: 50ex;\n",
       "  color: var(--sklearn-color-text);\n",
       "  box-shadow: 2pt 2pt 4pt #999;\n",
       "  /* unfitted */\n",
       "  background: var(--sklearn-color-unfitted-level-0);\n",
       "  border: .5pt solid var(--sklearn-color-unfitted-level-3);\n",
       "}\n",
       "\n",
       ".sk-estimator-doc-link.fitted span {\n",
       "  /* fitted */\n",
       "  background: var(--sklearn-color-fitted-level-0);\n",
       "  border: var(--sklearn-color-fitted-level-3);\n",
       "}\n",
       "\n",
       ".sk-estimator-doc-link:hover span {\n",
       "  display: block;\n",
       "}\n",
       "\n",
       "/* \"?\"-specific style due to the `<a>` HTML tag */\n",
       "\n",
       "#sk-container-id-1 a.estimator_doc_link {\n",
       "  float: right;\n",
       "  font-size: 1rem;\n",
       "  line-height: 1em;\n",
       "  font-family: monospace;\n",
       "  background-color: var(--sklearn-color-background);\n",
       "  border-radius: 1rem;\n",
       "  height: 1rem;\n",
       "  width: 1rem;\n",
       "  text-decoration: none;\n",
       "  /* unfitted */\n",
       "  color: var(--sklearn-color-unfitted-level-1);\n",
       "  border: var(--sklearn-color-unfitted-level-1) 1pt solid;\n",
       "}\n",
       "\n",
       "#sk-container-id-1 a.estimator_doc_link.fitted {\n",
       "  /* fitted */\n",
       "  border: var(--sklearn-color-fitted-level-1) 1pt solid;\n",
       "  color: var(--sklearn-color-fitted-level-1);\n",
       "}\n",
       "\n",
       "/* On hover */\n",
       "#sk-container-id-1 a.estimator_doc_link:hover {\n",
       "  /* unfitted */\n",
       "  background-color: var(--sklearn-color-unfitted-level-3);\n",
       "  color: var(--sklearn-color-background);\n",
       "  text-decoration: none;\n",
       "}\n",
       "\n",
       "#sk-container-id-1 a.estimator_doc_link.fitted:hover {\n",
       "  /* fitted */\n",
       "  background-color: var(--sklearn-color-fitted-level-3);\n",
       "}\n",
       "</style><div id=\"sk-container-id-1\" class=\"sk-top-container\"><div class=\"sk-text-repr-fallback\"><pre>GridSearchCV(cv=3, estimator=BackpropagationModel(layer_conf=[10, 5, 1]),\n",
       "             n_jobs=-1,\n",
       "             param_grid={&#x27;learn_rate&#x27;: [0.1, 0.5, 1], &#x27;max_epoch&#x27;: [500, 1000],\n",
       "                         &#x27;max_error&#x27;: [0.01, 0.1, 0.2],\n",
       "                         &#x27;print_per_epoch&#x27;: [-1]},\n",
       "             scoring=&#x27;accuracy&#x27;, verbose=2)</pre><b>In a Jupyter environment, please rerun this cell to show the HTML representation or trust the notebook. <br />On GitHub, the HTML representation is unable to render, please try loading this page with nbviewer.org.</b></div><div class=\"sk-container\" hidden><div class=\"sk-item sk-dashed-wrapped\"><div class=\"sk-label-container\"><div class=\"sk-label fitted sk-toggleable\"><input class=\"sk-toggleable__control sk-hidden--visually\" id=\"sk-estimator-id-1\" type=\"checkbox\" ><label for=\"sk-estimator-id-1\" class=\"sk-toggleable__label fitted sk-toggleable__label-arrow fitted\">&nbsp;&nbsp;GridSearchCV<a class=\"sk-estimator-doc-link fitted\" rel=\"noreferrer\" target=\"_blank\" href=\"https://scikit-learn.org/1.5/modules/generated/sklearn.model_selection.GridSearchCV.html\">?<span>Documentation for GridSearchCV</span></a><span class=\"sk-estimator-doc-link fitted\">i<span>Fitted</span></span></label><div class=\"sk-toggleable__content fitted\"><pre>GridSearchCV(cv=3, estimator=BackpropagationModel(layer_conf=[10, 5, 1]),\n",
       "             n_jobs=-1,\n",
       "             param_grid={&#x27;learn_rate&#x27;: [0.1, 0.5, 1], &#x27;max_epoch&#x27;: [500, 1000],\n",
       "                         &#x27;max_error&#x27;: [0.01, 0.1, 0.2],\n",
       "                         &#x27;print_per_epoch&#x27;: [-1]},\n",
       "             scoring=&#x27;accuracy&#x27;, verbose=2)</pre></div> </div></div><div class=\"sk-parallel\"><div class=\"sk-parallel-item\"><div class=\"sk-item\"><div class=\"sk-label-container\"><div class=\"sk-label fitted sk-toggleable\"><input class=\"sk-toggleable__control sk-hidden--visually\" id=\"sk-estimator-id-2\" type=\"checkbox\" ><label for=\"sk-estimator-id-2\" class=\"sk-toggleable__label fitted sk-toggleable__label-arrow fitted\">best_estimator_: BackpropagationModel</label><div class=\"sk-toggleable__content fitted\"><pre>BackpropagationModel(layer_conf=[10, 5, 1], learn_rate=0.1, max_epoch=500,\n",
       "                     max_error=0.01, print_per_epoch=-1)</pre></div> </div></div><div class=\"sk-serial\"><div class=\"sk-item\"><div class=\"sk-estimator fitted sk-toggleable\"><input class=\"sk-toggleable__control sk-hidden--visually\" id=\"sk-estimator-id-3\" type=\"checkbox\" ><label for=\"sk-estimator-id-3\" class=\"sk-toggleable__label fitted sk-toggleable__label-arrow fitted\">BackpropagationModel</label><div class=\"sk-toggleable__content fitted\"><pre>BackpropagationModel(layer_conf=[10, 5, 1], learn_rate=0.1, max_epoch=500,\n",
       "                     max_error=0.01, print_per_epoch=-1)</pre></div> </div></div></div></div></div></div></div></div></div>"
      ],
      "text/plain": [
       "GridSearchCV(cv=3, estimator=BackpropagationModel(layer_conf=[10, 5, 1]),\n",
       "             n_jobs=-1,\n",
       "             param_grid={'learn_rate': [0.1, 0.5, 1], 'max_epoch': [500, 1000],\n",
       "                         'max_error': [0.01, 0.1, 0.2],\n",
       "                         'print_per_epoch': [-1]},\n",
       "             scoring='accuracy', verbose=2)"
      ]
     },
     "execution_count": 6,
     "metadata": {},
     "output_type": "execute_result"
    }
   ],
   "source": [
    "grid_search = GridSearchCV(estimator=model, \n",
    "                           param_grid=param_grid, \n",
    "                           scoring='accuracy',\n",
    "                           cv=3, \n",
    "                           n_jobs=-1,\n",
    "                           verbose=2)\n",
    "\n",
    "grid_search.fit(X_train, y_train)"
   ]
  },
  {
   "cell_type": "markdown",
   "metadata": {},
   "source": [
    "## Binary Result"
   ]
  },
  {
   "cell_type": "code",
   "execution_count": 7,
   "metadata": {},
   "outputs": [
    {
     "name": "stdout",
     "output_type": "stream",
     "text": [
      "Best parameters:  {'learn_rate': 0.1, 'max_epoch': 500, 'max_error': 0.01, 'print_per_epoch': -1}\n",
      "Train set accuracy:  0.9575\n",
      "Test set accuracy:  0.91\n"
     ]
    }
   ],
   "source": [
    "print(\"Best parameters: \", grid_search.best_params_)\n",
    "\n",
    "# Best model\n",
    "best_model = grid_search.best_estimator_\n",
    "\n",
    "# Evaluate on train set\n",
    "train_accuracy = best_model.score(X_train, y_train)\n",
    "print(\"Train set accuracy: \", train_accuracy)\n",
    "\n",
    "# Evaluate on test set\n",
    "test_accuracy = best_model.score(X_test, y_test)\n",
    "print(\"Test set accuracy: \", test_accuracy)"
   ]
  },
  {
   "cell_type": "markdown",
   "metadata": {},
   "source": [
    "## Example Dataset (Multi-class)"
   ]
  },
  {
   "cell_type": "code",
   "execution_count": 8,
   "metadata": {},
   "outputs": [],
   "source": [
    "X, y = make_classification(n_samples=1000, n_features=10, n_informative=8, n_classes=4, random_state=42)\n",
    "X_train, X_test, y_train, y_test=  train_test_split(X, y, test_size=.2, random_state=42)"
   ]
  },
  {
   "cell_type": "markdown",
   "metadata": {},
   "source": [
    "## Example Usage (Multi-class)"
   ]
  },
  {
   "cell_type": "code",
   "execution_count": 9,
   "metadata": {},
   "outputs": [],
   "source": [
    "layer_conf = [10, 20, 4]"
   ]
  },
  {
   "cell_type": "code",
   "execution_count": 10,
   "metadata": {},
   "outputs": [],
   "source": [
    "model = BackpropagationModel(layer_conf=layer_conf)\n",
    "\n",
    "param_grid = {\n",
    "    'max_epoch':[500, 1000, 2000],\n",
    "    'learn_rate':[.1, .5, 1],\n",
    "    'max_error':[.01, .1, .2],\n",
    "    'print_per_epoch': [-1]\n",
    "}"
   ]
  },
  {
   "cell_type": "code",
   "execution_count": 11,
   "metadata": {},
   "outputs": [
    {
     "name": "stdout",
     "output_type": "stream",
     "text": [
      "Fitting 3 folds for each of 27 candidates, totalling 81 fits\n",
      "[CV] END learn_rate=0.1, max_epoch=500, max_error=0.2, print_per_epoch=-1; total time=   0.8s\n",
      "[CV] END learn_rate=0.1, max_epoch=500, max_error=0.2, print_per_epoch=-1; total time=   0.8s\n",
      "[CV] END learn_rate=0.1, max_epoch=500, max_error=0.2, print_per_epoch=-1; total time=   1.0s\n",
      "[CV] END learn_rate=0.1, max_epoch=1000, max_error=0.2, print_per_epoch=-1; total time=   1.0s\n",
      "[CV] END learn_rate=0.1, max_epoch=1000, max_error=0.1, print_per_epoch=-1; total time=   1.3s\n",
      "[CV] END learn_rate=0.1, max_epoch=1000, max_error=0.2, print_per_epoch=-1; total time=   0.6s\n",
      "[CV] END learn_rate=0.1, max_epoch=1000, max_error=0.2, print_per_epoch=-1; total time=   0.7s\n",
      "[CV] END learn_rate=0.1, max_epoch=500, max_error=0.1, print_per_epoch=-1; total time=   1.6s\n",
      "[CV] END learn_rate=0.1, max_epoch=1000, max_error=0.1, print_per_epoch=-1; total time=   1.7s\n",
      "[CV] END learn_rate=0.1, max_epoch=500, max_error=0.1, print_per_epoch=-1; total time=   1.7s\n",
      "[CV] END learn_rate=0.1, max_epoch=500, max_error=0.1, print_per_epoch=-1; total time=   1.9s\n",
      "[CV] END learn_rate=0.1, max_epoch=1000, max_error=0.1, print_per_epoch=-1; total time=   1.9s\n",
      "[CV] END learn_rate=0.1, max_epoch=2000, max_error=0.2, print_per_epoch=-1; total time=   0.8s\n",
      "[CV] END learn_rate=0.1, max_epoch=2000, max_error=0.2, print_per_epoch=-1; total time=   0.8s\n",
      "[CV] END learn_rate=0.1, max_epoch=2000, max_error=0.2, print_per_epoch=-1; total time=   0.8s\n",
      "[CV] END learn_rate=0.1, max_epoch=2000, max_error=0.1, print_per_epoch=-1; total time=   1.3s\n",
      "[CV] END learn_rate=0.1, max_epoch=2000, max_error=0.1, print_per_epoch=-1; total time=   1.4s\n",
      "[CV] END learn_rate=0.1, max_epoch=2000, max_error=0.1, print_per_epoch=-1; total time=   1.7s\n",
      "[CV] END learn_rate=0.1, max_epoch=1000, max_error=0.01, print_per_epoch=-1; total time=   4.8s\n",
      "[CV] END learn_rate=0.1, max_epoch=500, max_error=0.01, print_per_epoch=-1; total time=   4.8s\n",
      "[CV] END learn_rate=0.1, max_epoch=1000, max_error=0.01, print_per_epoch=-1; total time=   4.9s\n",
      "[CV] END learn_rate=0.1, max_epoch=500, max_error=0.01, print_per_epoch=-1; total time=   5.1s\n",
      "[CV] END learn_rate=0.1, max_epoch=1000, max_error=0.01, print_per_epoch=-1; total time=   5.6s\n",
      "[CV] END learn_rate=0.1, max_epoch=500, max_error=0.01, print_per_epoch=-1; total time=   5.6s\n",
      "[CV] END learn_rate=0.1, max_epoch=2000, max_error=0.01, print_per_epoch=-1; total time=   5.5s\n",
      "[CV] END learn_rate=0.1, max_epoch=2000, max_error=0.01, print_per_epoch=-1; total time=   5.5s\n",
      "[CV] END learn_rate=0.1, max_epoch=2000, max_error=0.01, print_per_epoch=-1; total time=   5.9s\n"
     ]
    },
    {
     "name": "stderr",
     "output_type": "stream",
     "text": [
      "/tmp/ipykernel_4944/4238759660.py:25: RuntimeWarning: overflow encountered in exp\n",
      "/tmp/ipykernel_4944/4238759660.py:25: RuntimeWarning: overflow encountered in exp\n",
      "/tmp/ipykernel_4944/4238759660.py:25: RuntimeWarning: overflow encountered in exp\n",
      "/tmp/ipykernel_4944/4238759660.py:25: RuntimeWarning: overflow encountered in exp\n",
      "/tmp/ipykernel_4944/4238759660.py:25: RuntimeWarning: overflow encountered in exp\n"
     ]
    },
    {
     "name": "stdout",
     "output_type": "stream",
     "text": [
      "[CV] END learn_rate=0.5, max_epoch=500, max_error=0.2, print_per_epoch=-1; total time=  11.0s\n"
     ]
    },
    {
     "name": "stderr",
     "output_type": "stream",
     "text": [
      "/tmp/ipykernel_4944/4238759660.py:25: RuntimeWarning: overflow encountered in exp\n",
      "/tmp/ipykernel_4944/4238759660.py:25: RuntimeWarning: overflow encountered in exp\n",
      "/tmp/ipykernel_4944/4238759660.py:25: RuntimeWarning: overflow encountered in exp\n",
      "/tmp/ipykernel_4944/4238759660.py:25: RuntimeWarning: overflow encountered in exp\n"
     ]
    },
    {
     "name": "stdout",
     "output_type": "stream",
     "text": [
      "[CV] END learn_rate=0.5, max_epoch=500, max_error=0.1, print_per_epoch=-1; total time=  17.5s\n",
      "[CV] END learn_rate=0.5, max_epoch=500, max_error=0.2, print_per_epoch=-1; total time=  17.0s\n",
      "[CV] END learn_rate=0.5, max_epoch=500, max_error=0.01, print_per_epoch=-1; total time=  18.6s\n"
     ]
    },
    {
     "name": "stderr",
     "output_type": "stream",
     "text": [
      "/tmp/ipykernel_4944/4238759660.py:25: RuntimeWarning: overflow encountered in exp\n"
     ]
    },
    {
     "name": "stdout",
     "output_type": "stream",
     "text": [
      "[CV] END learn_rate=0.5, max_epoch=500, max_error=0.1, print_per_epoch=-1; total time=  18.3s\n"
     ]
    },
    {
     "name": "stderr",
     "output_type": "stream",
     "text": [
      "/tmp/ipykernel_4944/4238759660.py:25: RuntimeWarning: overflow encountered in exp\n",
      "/tmp/ipykernel_4944/4238759660.py:25: RuntimeWarning: overflow encountered in exp\n"
     ]
    },
    {
     "name": "stdout",
     "output_type": "stream",
     "text": [
      "[CV] END learn_rate=0.5, max_epoch=500, max_error=0.2, print_per_epoch=-1; total time=  16.9s\n",
      "[CV] END learn_rate=0.5, max_epoch=500, max_error=0.01, print_per_epoch=-1; total time=  19.4s\n",
      "[CV] END learn_rate=0.5, max_epoch=500, max_error=0.1, print_per_epoch=-1; total time=  19.8s\n"
     ]
    },
    {
     "name": "stderr",
     "output_type": "stream",
     "text": [
      "/tmp/ipykernel_4944/4238759660.py:25: RuntimeWarning: overflow encountered in exp\n"
     ]
    },
    {
     "name": "stdout",
     "output_type": "stream",
     "text": [
      "[CV] END learn_rate=0.5, max_epoch=500, max_error=0.01, print_per_epoch=-1; total time=  20.6s\n"
     ]
    },
    {
     "name": "stderr",
     "output_type": "stream",
     "text": [
      "/tmp/ipykernel_4944/4238759660.py:25: RuntimeWarning: overflow encountered in exp\n",
      "/tmp/ipykernel_4944/4238759660.py:25: RuntimeWarning: overflow encountered in exp\n",
      "/tmp/ipykernel_4944/4238759660.py:25: RuntimeWarning: overflow encountered in exp\n",
      "/tmp/ipykernel_4944/4238759660.py:25: RuntimeWarning: overflow encountered in exp\n"
     ]
    },
    {
     "name": "stdout",
     "output_type": "stream",
     "text": [
      "[CV] END learn_rate=0.5, max_epoch=1000, max_error=0.2, print_per_epoch=-1; total time=  11.7s\n"
     ]
    },
    {
     "name": "stderr",
     "output_type": "stream",
     "text": [
      "/tmp/ipykernel_4944/4238759660.py:25: RuntimeWarning: overflow encountered in exp\n",
      "/tmp/ipykernel_4944/4238759660.py:25: RuntimeWarning: overflow encountered in exp\n",
      "/tmp/ipykernel_4944/4238759660.py:25: RuntimeWarning: overflow encountered in exp\n",
      "/tmp/ipykernel_4944/4238759660.py:25: RuntimeWarning: overflow encountered in exp\n",
      "/tmp/ipykernel_4944/4238759660.py:25: RuntimeWarning: overflow encountered in exp\n",
      "/tmp/ipykernel_4944/4238759660.py:25: RuntimeWarning: overflow encountered in exp\n",
      "/tmp/ipykernel_4944/4238759660.py:25: RuntimeWarning: overflow encountered in exp\n"
     ]
    },
    {
     "name": "stdout",
     "output_type": "stream",
     "text": [
      "[CV] END learn_rate=0.5, max_epoch=1000, max_error=0.01, print_per_epoch=-1; total time=  34.5s\n",
      "[CV] END learn_rate=0.5, max_epoch=2000, max_error=0.2, print_per_epoch=-1; total time=  12.1s\n"
     ]
    },
    {
     "name": "stderr",
     "output_type": "stream",
     "text": [
      "/tmp/ipykernel_4944/4238759660.py:25: RuntimeWarning: overflow encountered in exp\n",
      "/tmp/ipykernel_4944/4238759660.py:25: RuntimeWarning: overflow encountered in exp\n"
     ]
    },
    {
     "name": "stdout",
     "output_type": "stream",
     "text": [
      "[CV] END learn_rate=0.5, max_epoch=1000, max_error=0.01, print_per_epoch=-1; total time=  34.6s\n",
      "[CV] END learn_rate=0.5, max_epoch=1000, max_error=0.1, print_per_epoch=-1; total time=  34.8s\n"
     ]
    },
    {
     "name": "stderr",
     "output_type": "stream",
     "text": [
      "/tmp/ipykernel_4944/4238759660.py:25: RuntimeWarning: overflow encountered in exp\n"
     ]
    },
    {
     "name": "stdout",
     "output_type": "stream",
     "text": [
      "[CV] END learn_rate=0.5, max_epoch=1000, max_error=0.1, print_per_epoch=-1; total time=  34.5s\n",
      "[CV] END learn_rate=0.5, max_epoch=1000, max_error=0.01, print_per_epoch=-1; total time=  36.1s\n"
     ]
    },
    {
     "name": "stderr",
     "output_type": "stream",
     "text": [
      "/tmp/ipykernel_4944/4238759660.py:25: RuntimeWarning: overflow encountered in exp\n",
      "/tmp/ipykernel_4944/4238759660.py:25: RuntimeWarning: overflow encountered in exp\n",
      "/tmp/ipykernel_4944/4238759660.py:25: RuntimeWarning: overflow encountered in exp\n",
      "/tmp/ipykernel_4944/4238759660.py:25: RuntimeWarning: overflow encountered in exp\n",
      "/tmp/ipykernel_4944/4238759660.py:25: RuntimeWarning: overflow encountered in exp\n",
      "/tmp/ipykernel_4944/4238759660.py:25: RuntimeWarning: overflow encountered in exp\n",
      "/tmp/ipykernel_4944/4238759660.py:25: RuntimeWarning: overflow encountered in exp\n"
     ]
    },
    {
     "name": "stdout",
     "output_type": "stream",
     "text": [
      "[CV] END learn_rate=0.5, max_epoch=1000, max_error=0.2, print_per_epoch=-1; total time=  35.2s\n"
     ]
    },
    {
     "name": "stderr",
     "output_type": "stream",
     "text": [
      "/tmp/ipykernel_4944/4238759660.py:25: RuntimeWarning: overflow encountered in exp\n",
      "/tmp/ipykernel_4944/4238759660.py:25: RuntimeWarning: overflow encountered in exp\n",
      "/tmp/ipykernel_4944/4238759660.py:25: RuntimeWarning: overflow encountered in exp\n"
     ]
    },
    {
     "name": "stdout",
     "output_type": "stream",
     "text": [
      "[CV] END learn_rate=0.5, max_epoch=1000, max_error=0.1, print_per_epoch=-1; total time=  40.4s\n"
     ]
    },
    {
     "name": "stderr",
     "output_type": "stream",
     "text": [
      "/tmp/ipykernel_4944/4238759660.py:25: RuntimeWarning: overflow encountered in exp\n",
      "/tmp/ipykernel_4944/4238759660.py:25: RuntimeWarning: overflow encountered in exp\n"
     ]
    },
    {
     "name": "stdout",
     "output_type": "stream",
     "text": [
      "[CV] END learn_rate=0.5, max_epoch=1000, max_error=0.2, print_per_epoch=-1; total time=  31.6s\n"
     ]
    },
    {
     "name": "stderr",
     "output_type": "stream",
     "text": [
      "/tmp/ipykernel_4944/4238759660.py:25: RuntimeWarning: overflow encountered in exp\n",
      "/tmp/ipykernel_4944/4238759660.py:25: RuntimeWarning: overflow encountered in exp\n",
      "/tmp/ipykernel_4944/4238759660.py:25: RuntimeWarning: overflow encountered in exp\n",
      "/tmp/ipykernel_4944/4238759660.py:25: RuntimeWarning: overflow encountered in exp\n"
     ]
    },
    {
     "name": "stdout",
     "output_type": "stream",
     "text": [
      "[CV] END learn_rate=1, max_epoch=500, max_error=0.1, print_per_epoch=-1; total time=  17.4s\n",
      "[CV] END learn_rate=1, max_epoch=500, max_error=0.1, print_per_epoch=-1; total time=  17.4s\n"
     ]
    },
    {
     "name": "stderr",
     "output_type": "stream",
     "text": [
      "/tmp/ipykernel_4944/4238759660.py:25: RuntimeWarning: overflow encountered in exp\n",
      "/tmp/ipykernel_4944/4238759660.py:25: RuntimeWarning: overflow encountered in exp\n"
     ]
    },
    {
     "name": "stdout",
     "output_type": "stream",
     "text": [
      "[CV] END learn_rate=1, max_epoch=500, max_error=0.01, print_per_epoch=-1; total time=  18.8s\n",
      "[CV] END learn_rate=1, max_epoch=500, max_error=0.1, print_per_epoch=-1; total time=  17.1s\n"
     ]
    },
    {
     "name": "stderr",
     "output_type": "stream",
     "text": [
      "/tmp/ipykernel_4944/4238759660.py:25: RuntimeWarning: overflow encountered in exp\n",
      "/tmp/ipykernel_4944/4238759660.py:25: RuntimeWarning: overflow encountered in exp\n"
     ]
    },
    {
     "name": "stdout",
     "output_type": "stream",
     "text": [
      "[CV] END learn_rate=1, max_epoch=500, max_error=0.01, print_per_epoch=-1; total time=  19.7s\n"
     ]
    },
    {
     "name": "stderr",
     "output_type": "stream",
     "text": [
      "/tmp/ipykernel_4944/4238759660.py:25: RuntimeWarning: overflow encountered in exp\n",
      "/tmp/ipykernel_4944/4238759660.py:25: RuntimeWarning: overflow encountered in exp\n",
      "/tmp/ipykernel_4944/4238759660.py:25: RuntimeWarning: overflow encountered in exp\n",
      "/tmp/ipykernel_4944/4238759660.py:25: RuntimeWarning: overflow encountered in exp\n"
     ]
    },
    {
     "name": "stdout",
     "output_type": "stream",
     "text": [
      "[CV] END learn_rate=1, max_epoch=500, max_error=0.01, print_per_epoch=-1; total time=  19.7s\n"
     ]
    },
    {
     "name": "stderr",
     "output_type": "stream",
     "text": [
      "/tmp/ipykernel_4944/4238759660.py:25: RuntimeWarning: overflow encountered in exp\n",
      "/tmp/ipykernel_4944/4238759660.py:25: RuntimeWarning: overflow encountered in exp\n",
      "/tmp/ipykernel_4944/4238759660.py:25: RuntimeWarning: overflow encountered in exp\n"
     ]
    },
    {
     "name": "stdout",
     "output_type": "stream",
     "text": [
      "[CV] END learn_rate=1, max_epoch=500, max_error=0.2, print_per_epoch=-1; total time=  16.9s\n"
     ]
    },
    {
     "name": "stderr",
     "output_type": "stream",
     "text": [
      "/tmp/ipykernel_4944/4238759660.py:25: RuntimeWarning: overflow encountered in exp\n",
      "/tmp/ipykernel_4944/4238759660.py:25: RuntimeWarning: overflow encountered in exp\n"
     ]
    },
    {
     "name": "stdout",
     "output_type": "stream",
     "text": [
      "[CV] END learn_rate=1, max_epoch=500, max_error=0.2, print_per_epoch=-1; total time=  17.6s\n"
     ]
    },
    {
     "name": "stderr",
     "output_type": "stream",
     "text": [
      "/tmp/ipykernel_4944/4238759660.py:25: RuntimeWarning: overflow encountered in exp\n",
      "/tmp/ipykernel_4944/4238759660.py:25: RuntimeWarning: overflow encountered in exp\n"
     ]
    },
    {
     "name": "stdout",
     "output_type": "stream",
     "text": [
      "[CV] END learn_rate=0.5, max_epoch=2000, max_error=0.2, print_per_epoch=-1; total time=  32.0s\n"
     ]
    },
    {
     "name": "stderr",
     "output_type": "stream",
     "text": [
      "/tmp/ipykernel_4944/4238759660.py:25: RuntimeWarning: overflow encountered in exp\n",
      "/tmp/ipykernel_4944/4238759660.py:25: RuntimeWarning: overflow encountered in exp\n"
     ]
    },
    {
     "name": "stdout",
     "output_type": "stream",
     "text": [
      "[CV] END learn_rate=1, max_epoch=500, max_error=0.2, print_per_epoch=-1; total time=  17.3s\n"
     ]
    },
    {
     "name": "stderr",
     "output_type": "stream",
     "text": [
      "/tmp/ipykernel_4944/4238759660.py:25: RuntimeWarning: overflow encountered in exp\n",
      "/tmp/ipykernel_4944/4238759660.py:25: RuntimeWarning: overflow encountered in exp\n"
     ]
    },
    {
     "name": "stdout",
     "output_type": "stream",
     "text": [
      "[CV] END learn_rate=0.5, max_epoch=2000, max_error=0.01, print_per_epoch=-1; total time= 1.1min\n"
     ]
    },
    {
     "name": "stderr",
     "output_type": "stream",
     "text": [
      "/tmp/ipykernel_4944/4238759660.py:25: RuntimeWarning: overflow encountered in exp\n",
      "/tmp/ipykernel_4944/4238759660.py:25: RuntimeWarning: overflow encountered in exp\n"
     ]
    },
    {
     "name": "stdout",
     "output_type": "stream",
     "text": [
      "[CV] END learn_rate=0.5, max_epoch=2000, max_error=0.1, print_per_epoch=-1; total time= 1.2min\n"
     ]
    },
    {
     "name": "stderr",
     "output_type": "stream",
     "text": [
      "/tmp/ipykernel_4944/4238759660.py:25: RuntimeWarning: overflow encountered in exp\n",
      "/tmp/ipykernel_4944/4238759660.py:25: RuntimeWarning: overflow encountered in exp\n",
      "/tmp/ipykernel_4944/4238759660.py:25: RuntimeWarning: overflow encountered in exp\n"
     ]
    },
    {
     "name": "stdout",
     "output_type": "stream",
     "text": [
      "[CV] END learn_rate=1, max_epoch=1000, max_error=0.01, print_per_epoch=-1; total time=  34.7s\n",
      "[CV] END learn_rate=1, max_epoch=1000, max_error=0.01, print_per_epoch=-1; total time=  35.6s\n"
     ]
    },
    {
     "name": "stderr",
     "output_type": "stream",
     "text": [
      "/tmp/ipykernel_4944/4238759660.py:25: RuntimeWarning: overflow encountered in exp\n",
      "/tmp/ipykernel_4944/4238759660.py:25: RuntimeWarning: overflow encountered in exp\n"
     ]
    },
    {
     "name": "stdout",
     "output_type": "stream",
     "text": [
      "[CV] END learn_rate=0.5, max_epoch=2000, max_error=0.01, print_per_epoch=-1; total time= 1.2min\n"
     ]
    },
    {
     "name": "stderr",
     "output_type": "stream",
     "text": [
      "/tmp/ipykernel_4944/4238759660.py:25: RuntimeWarning: overflow encountered in exp\n",
      "/tmp/ipykernel_4944/4238759660.py:25: RuntimeWarning: overflow encountered in exp\n"
     ]
    },
    {
     "name": "stdout",
     "output_type": "stream",
     "text": [
      "[CV] END learn_rate=0.5, max_epoch=2000, max_error=0.2, print_per_epoch=-1; total time= 1.2min\n",
      "[CV] END learn_rate=1, max_epoch=1000, max_error=0.01, print_per_epoch=-1; total time=  36.3s\n"
     ]
    },
    {
     "name": "stderr",
     "output_type": "stream",
     "text": [
      "/tmp/ipykernel_4944/4238759660.py:25: RuntimeWarning: overflow encountered in exp\n",
      "/tmp/ipykernel_4944/4238759660.py:25: RuntimeWarning: overflow encountered in exp\n",
      "/tmp/ipykernel_4944/4238759660.py:25: RuntimeWarning: overflow encountered in exp\n",
      "/tmp/ipykernel_4944/4238759660.py:25: RuntimeWarning: overflow encountered in exp\n",
      "/tmp/ipykernel_4944/4238759660.py:25: RuntimeWarning: overflow encountered in exp\n",
      "/tmp/ipykernel_4944/4238759660.py:25: RuntimeWarning: overflow encountered in exp\n"
     ]
    },
    {
     "name": "stdout",
     "output_type": "stream",
     "text": [
      "[CV] END learn_rate=0.5, max_epoch=2000, max_error=0.01, print_per_epoch=-1; total time= 1.2min\n",
      "[CV] END learn_rate=0.5, max_epoch=2000, max_error=0.1, print_per_epoch=-1; total time= 1.2min\n"
     ]
    },
    {
     "name": "stderr",
     "output_type": "stream",
     "text": [
      "/tmp/ipykernel_4944/4238759660.py:25: RuntimeWarning: overflow encountered in exp\n",
      "/tmp/ipykernel_4944/4238759660.py:25: RuntimeWarning: overflow encountered in exp\n"
     ]
    },
    {
     "name": "stdout",
     "output_type": "stream",
     "text": [
      "[CV] END learn_rate=1, max_epoch=1000, max_error=0.1, print_per_epoch=-1; total time=  37.1s\n",
      "[CV] END learn_rate=0.5, max_epoch=2000, max_error=0.1, print_per_epoch=-1; total time= 1.2min\n"
     ]
    },
    {
     "name": "stderr",
     "output_type": "stream",
     "text": [
      "/tmp/ipykernel_4944/4238759660.py:25: RuntimeWarning: overflow encountered in exp\n",
      "/tmp/ipykernel_4944/4238759660.py:25: RuntimeWarning: overflow encountered in exp\n",
      "/tmp/ipykernel_4944/4238759660.py:25: RuntimeWarning: overflow encountered in exp\n"
     ]
    },
    {
     "name": "stdout",
     "output_type": "stream",
     "text": [
      "[CV] END learn_rate=1, max_epoch=1000, max_error=0.1, print_per_epoch=-1; total time=  37.8s\n"
     ]
    },
    {
     "name": "stderr",
     "output_type": "stream",
     "text": [
      "/tmp/ipykernel_4944/4238759660.py:25: RuntimeWarning: overflow encountered in exp\n"
     ]
    },
    {
     "name": "stdout",
     "output_type": "stream",
     "text": [
      "[CV] END learn_rate=1, max_epoch=1000, max_error=0.1, print_per_epoch=-1; total time=  36.1s\n"
     ]
    },
    {
     "name": "stderr",
     "output_type": "stream",
     "text": [
      "/tmp/ipykernel_4944/4238759660.py:25: RuntimeWarning: overflow encountered in exp\n"
     ]
    },
    {
     "name": "stdout",
     "output_type": "stream",
     "text": [
      "[CV] END learn_rate=1, max_epoch=1000, max_error=0.2, print_per_epoch=-1; total time=  35.2s\n"
     ]
    },
    {
     "name": "stderr",
     "output_type": "stream",
     "text": [
      "/tmp/ipykernel_4944/4238759660.py:25: RuntimeWarning: overflow encountered in exp\n",
      "/tmp/ipykernel_4944/4238759660.py:25: RuntimeWarning: overflow encountered in exp\n"
     ]
    },
    {
     "name": "stdout",
     "output_type": "stream",
     "text": [
      "[CV] END learn_rate=1, max_epoch=1000, max_error=0.2, print_per_epoch=-1; total time=  38.3s\n",
      "[CV] END learn_rate=1, max_epoch=1000, max_error=0.2, print_per_epoch=-1; total time=  34.3s\n"
     ]
    },
    {
     "name": "stderr",
     "output_type": "stream",
     "text": [
      "/tmp/ipykernel_4944/4238759660.py:25: RuntimeWarning: overflow encountered in exp\n"
     ]
    },
    {
     "name": "stdout",
     "output_type": "stream",
     "text": [
      "[CV] END learn_rate=1, max_epoch=2000, max_error=0.01, print_per_epoch=-1; total time= 1.1min\n"
     ]
    },
    {
     "name": "stderr",
     "output_type": "stream",
     "text": [
      "/tmp/ipykernel_4944/4238759660.py:25: RuntimeWarning: overflow encountered in exp\n"
     ]
    },
    {
     "name": "stdout",
     "output_type": "stream",
     "text": [
      "[CV] END learn_rate=1, max_epoch=2000, max_error=0.01, print_per_epoch=-1; total time= 1.1min\n"
     ]
    },
    {
     "name": "stderr",
     "output_type": "stream",
     "text": [
      "/tmp/ipykernel_4944/4238759660.py:25: RuntimeWarning: overflow encountered in exp\n"
     ]
    },
    {
     "name": "stdout",
     "output_type": "stream",
     "text": [
      "[CV] END learn_rate=1, max_epoch=2000, max_error=0.1, print_per_epoch=-1; total time= 1.1min\n"
     ]
    },
    {
     "name": "stderr",
     "output_type": "stream",
     "text": [
      "/tmp/ipykernel_4944/4238759660.py:25: RuntimeWarning: overflow encountered in exp\n"
     ]
    },
    {
     "name": "stdout",
     "output_type": "stream",
     "text": [
      "[CV] END learn_rate=1, max_epoch=2000, max_error=0.1, print_per_epoch=-1; total time= 1.2min\n"
     ]
    },
    {
     "name": "stderr",
     "output_type": "stream",
     "text": [
      "/tmp/ipykernel_4944/4238759660.py:25: RuntimeWarning: overflow encountered in exp\n"
     ]
    },
    {
     "name": "stdout",
     "output_type": "stream",
     "text": [
      "[CV] END learn_rate=1, max_epoch=2000, max_error=0.1, print_per_epoch=-1; total time= 1.2min\n"
     ]
    },
    {
     "name": "stderr",
     "output_type": "stream",
     "text": [
      "/tmp/ipykernel_4944/4238759660.py:25: RuntimeWarning: overflow encountered in exp\n"
     ]
    },
    {
     "name": "stdout",
     "output_type": "stream",
     "text": [
      "[CV] END learn_rate=1, max_epoch=2000, max_error=0.2, print_per_epoch=-1; total time= 1.2min\n"
     ]
    },
    {
     "name": "stderr",
     "output_type": "stream",
     "text": [
      "/tmp/ipykernel_4944/4238759660.py:25: RuntimeWarning: overflow encountered in exp\n",
      "/tmp/ipykernel_4944/4238759660.py:25: RuntimeWarning: overflow encountered in exp\n"
     ]
    },
    {
     "name": "stdout",
     "output_type": "stream",
     "text": [
      "[CV] END learn_rate=1, max_epoch=2000, max_error=0.2, print_per_epoch=-1; total time= 1.2min\n",
      "[CV] END learn_rate=1, max_epoch=2000, max_error=0.01, print_per_epoch=-1; total time= 1.2min\n"
     ]
    },
    {
     "name": "stderr",
     "output_type": "stream",
     "text": [
      "/tmp/ipykernel_4944/4238759660.py:25: RuntimeWarning: overflow encountered in exp\n"
     ]
    },
    {
     "name": "stdout",
     "output_type": "stream",
     "text": [
      "[CV] END learn_rate=1, max_epoch=2000, max_error=0.2, print_per_epoch=-1; total time= 1.2min\n"
     ]
    },
    {
     "data": {
      "text/html": [
       "<style>#sk-container-id-2 {\n",
       "  /* Definition of color scheme common for light and dark mode */\n",
       "  --sklearn-color-text: black;\n",
       "  --sklearn-color-line: gray;\n",
       "  /* Definition of color scheme for unfitted estimators */\n",
       "  --sklearn-color-unfitted-level-0: #fff5e6;\n",
       "  --sklearn-color-unfitted-level-1: #f6e4d2;\n",
       "  --sklearn-color-unfitted-level-2: #ffe0b3;\n",
       "  --sklearn-color-unfitted-level-3: chocolate;\n",
       "  /* Definition of color scheme for fitted estimators */\n",
       "  --sklearn-color-fitted-level-0: #f0f8ff;\n",
       "  --sklearn-color-fitted-level-1: #d4ebff;\n",
       "  --sklearn-color-fitted-level-2: #b3dbfd;\n",
       "  --sklearn-color-fitted-level-3: cornflowerblue;\n",
       "\n",
       "  /* Specific color for light theme */\n",
       "  --sklearn-color-text-on-default-background: var(--sg-text-color, var(--theme-code-foreground, var(--jp-content-font-color1, black)));\n",
       "  --sklearn-color-background: var(--sg-background-color, var(--theme-background, var(--jp-layout-color0, white)));\n",
       "  --sklearn-color-border-box: var(--sg-text-color, var(--theme-code-foreground, var(--jp-content-font-color1, black)));\n",
       "  --sklearn-color-icon: #696969;\n",
       "\n",
       "  @media (prefers-color-scheme: dark) {\n",
       "    /* Redefinition of color scheme for dark theme */\n",
       "    --sklearn-color-text-on-default-background: var(--sg-text-color, var(--theme-code-foreground, var(--jp-content-font-color1, white)));\n",
       "    --sklearn-color-background: var(--sg-background-color, var(--theme-background, var(--jp-layout-color0, #111)));\n",
       "    --sklearn-color-border-box: var(--sg-text-color, var(--theme-code-foreground, var(--jp-content-font-color1, white)));\n",
       "    --sklearn-color-icon: #878787;\n",
       "  }\n",
       "}\n",
       "\n",
       "#sk-container-id-2 {\n",
       "  color: var(--sklearn-color-text);\n",
       "}\n",
       "\n",
       "#sk-container-id-2 pre {\n",
       "  padding: 0;\n",
       "}\n",
       "\n",
       "#sk-container-id-2 input.sk-hidden--visually {\n",
       "  border: 0;\n",
       "  clip: rect(1px 1px 1px 1px);\n",
       "  clip: rect(1px, 1px, 1px, 1px);\n",
       "  height: 1px;\n",
       "  margin: -1px;\n",
       "  overflow: hidden;\n",
       "  padding: 0;\n",
       "  position: absolute;\n",
       "  width: 1px;\n",
       "}\n",
       "\n",
       "#sk-container-id-2 div.sk-dashed-wrapped {\n",
       "  border: 1px dashed var(--sklearn-color-line);\n",
       "  margin: 0 0.4em 0.5em 0.4em;\n",
       "  box-sizing: border-box;\n",
       "  padding-bottom: 0.4em;\n",
       "  background-color: var(--sklearn-color-background);\n",
       "}\n",
       "\n",
       "#sk-container-id-2 div.sk-container {\n",
       "  /* jupyter's `normalize.less` sets `[hidden] { display: none; }`\n",
       "     but bootstrap.min.css set `[hidden] { display: none !important; }`\n",
       "     so we also need the `!important` here to be able to override the\n",
       "     default hidden behavior on the sphinx rendered scikit-learn.org.\n",
       "     See: https://github.com/scikit-learn/scikit-learn/issues/21755 */\n",
       "  display: inline-block !important;\n",
       "  position: relative;\n",
       "}\n",
       "\n",
       "#sk-container-id-2 div.sk-text-repr-fallback {\n",
       "  display: none;\n",
       "}\n",
       "\n",
       "div.sk-parallel-item,\n",
       "div.sk-serial,\n",
       "div.sk-item {\n",
       "  /* draw centered vertical line to link estimators */\n",
       "  background-image: linear-gradient(var(--sklearn-color-text-on-default-background), var(--sklearn-color-text-on-default-background));\n",
       "  background-size: 2px 100%;\n",
       "  background-repeat: no-repeat;\n",
       "  background-position: center center;\n",
       "}\n",
       "\n",
       "/* Parallel-specific style estimator block */\n",
       "\n",
       "#sk-container-id-2 div.sk-parallel-item::after {\n",
       "  content: \"\";\n",
       "  width: 100%;\n",
       "  border-bottom: 2px solid var(--sklearn-color-text-on-default-background);\n",
       "  flex-grow: 1;\n",
       "}\n",
       "\n",
       "#sk-container-id-2 div.sk-parallel {\n",
       "  display: flex;\n",
       "  align-items: stretch;\n",
       "  justify-content: center;\n",
       "  background-color: var(--sklearn-color-background);\n",
       "  position: relative;\n",
       "}\n",
       "\n",
       "#sk-container-id-2 div.sk-parallel-item {\n",
       "  display: flex;\n",
       "  flex-direction: column;\n",
       "}\n",
       "\n",
       "#sk-container-id-2 div.sk-parallel-item:first-child::after {\n",
       "  align-self: flex-end;\n",
       "  width: 50%;\n",
       "}\n",
       "\n",
       "#sk-container-id-2 div.sk-parallel-item:last-child::after {\n",
       "  align-self: flex-start;\n",
       "  width: 50%;\n",
       "}\n",
       "\n",
       "#sk-container-id-2 div.sk-parallel-item:only-child::after {\n",
       "  width: 0;\n",
       "}\n",
       "\n",
       "/* Serial-specific style estimator block */\n",
       "\n",
       "#sk-container-id-2 div.sk-serial {\n",
       "  display: flex;\n",
       "  flex-direction: column;\n",
       "  align-items: center;\n",
       "  background-color: var(--sklearn-color-background);\n",
       "  padding-right: 1em;\n",
       "  padding-left: 1em;\n",
       "}\n",
       "\n",
       "\n",
       "/* Toggleable style: style used for estimator/Pipeline/ColumnTransformer box that is\n",
       "clickable and can be expanded/collapsed.\n",
       "- Pipeline and ColumnTransformer use this feature and define the default style\n",
       "- Estimators will overwrite some part of the style using the `sk-estimator` class\n",
       "*/\n",
       "\n",
       "/* Pipeline and ColumnTransformer style (default) */\n",
       "\n",
       "#sk-container-id-2 div.sk-toggleable {\n",
       "  /* Default theme specific background. It is overwritten whether we have a\n",
       "  specific estimator or a Pipeline/ColumnTransformer */\n",
       "  background-color: var(--sklearn-color-background);\n",
       "}\n",
       "\n",
       "/* Toggleable label */\n",
       "#sk-container-id-2 label.sk-toggleable__label {\n",
       "  cursor: pointer;\n",
       "  display: block;\n",
       "  width: 100%;\n",
       "  margin-bottom: 0;\n",
       "  padding: 0.5em;\n",
       "  box-sizing: border-box;\n",
       "  text-align: center;\n",
       "}\n",
       "\n",
       "#sk-container-id-2 label.sk-toggleable__label-arrow:before {\n",
       "  /* Arrow on the left of the label */\n",
       "  content: \"▸\";\n",
       "  float: left;\n",
       "  margin-right: 0.25em;\n",
       "  color: var(--sklearn-color-icon);\n",
       "}\n",
       "\n",
       "#sk-container-id-2 label.sk-toggleable__label-arrow:hover:before {\n",
       "  color: var(--sklearn-color-text);\n",
       "}\n",
       "\n",
       "/* Toggleable content - dropdown */\n",
       "\n",
       "#sk-container-id-2 div.sk-toggleable__content {\n",
       "  max-height: 0;\n",
       "  max-width: 0;\n",
       "  overflow: hidden;\n",
       "  text-align: left;\n",
       "  /* unfitted */\n",
       "  background-color: var(--sklearn-color-unfitted-level-0);\n",
       "}\n",
       "\n",
       "#sk-container-id-2 div.sk-toggleable__content.fitted {\n",
       "  /* fitted */\n",
       "  background-color: var(--sklearn-color-fitted-level-0);\n",
       "}\n",
       "\n",
       "#sk-container-id-2 div.sk-toggleable__content pre {\n",
       "  margin: 0.2em;\n",
       "  border-radius: 0.25em;\n",
       "  color: var(--sklearn-color-text);\n",
       "  /* unfitted */\n",
       "  background-color: var(--sklearn-color-unfitted-level-0);\n",
       "}\n",
       "\n",
       "#sk-container-id-2 div.sk-toggleable__content.fitted pre {\n",
       "  /* unfitted */\n",
       "  background-color: var(--sklearn-color-fitted-level-0);\n",
       "}\n",
       "\n",
       "#sk-container-id-2 input.sk-toggleable__control:checked~div.sk-toggleable__content {\n",
       "  /* Expand drop-down */\n",
       "  max-height: 200px;\n",
       "  max-width: 100%;\n",
       "  overflow: auto;\n",
       "}\n",
       "\n",
       "#sk-container-id-2 input.sk-toggleable__control:checked~label.sk-toggleable__label-arrow:before {\n",
       "  content: \"▾\";\n",
       "}\n",
       "\n",
       "/* Pipeline/ColumnTransformer-specific style */\n",
       "\n",
       "#sk-container-id-2 div.sk-label input.sk-toggleable__control:checked~label.sk-toggleable__label {\n",
       "  color: var(--sklearn-color-text);\n",
       "  background-color: var(--sklearn-color-unfitted-level-2);\n",
       "}\n",
       "\n",
       "#sk-container-id-2 div.sk-label.fitted input.sk-toggleable__control:checked~label.sk-toggleable__label {\n",
       "  background-color: var(--sklearn-color-fitted-level-2);\n",
       "}\n",
       "\n",
       "/* Estimator-specific style */\n",
       "\n",
       "/* Colorize estimator box */\n",
       "#sk-container-id-2 div.sk-estimator input.sk-toggleable__control:checked~label.sk-toggleable__label {\n",
       "  /* unfitted */\n",
       "  background-color: var(--sklearn-color-unfitted-level-2);\n",
       "}\n",
       "\n",
       "#sk-container-id-2 div.sk-estimator.fitted input.sk-toggleable__control:checked~label.sk-toggleable__label {\n",
       "  /* fitted */\n",
       "  background-color: var(--sklearn-color-fitted-level-2);\n",
       "}\n",
       "\n",
       "#sk-container-id-2 div.sk-label label.sk-toggleable__label,\n",
       "#sk-container-id-2 div.sk-label label {\n",
       "  /* The background is the default theme color */\n",
       "  color: var(--sklearn-color-text-on-default-background);\n",
       "}\n",
       "\n",
       "/* On hover, darken the color of the background */\n",
       "#sk-container-id-2 div.sk-label:hover label.sk-toggleable__label {\n",
       "  color: var(--sklearn-color-text);\n",
       "  background-color: var(--sklearn-color-unfitted-level-2);\n",
       "}\n",
       "\n",
       "/* Label box, darken color on hover, fitted */\n",
       "#sk-container-id-2 div.sk-label.fitted:hover label.sk-toggleable__label.fitted {\n",
       "  color: var(--sklearn-color-text);\n",
       "  background-color: var(--sklearn-color-fitted-level-2);\n",
       "}\n",
       "\n",
       "/* Estimator label */\n",
       "\n",
       "#sk-container-id-2 div.sk-label label {\n",
       "  font-family: monospace;\n",
       "  font-weight: bold;\n",
       "  display: inline-block;\n",
       "  line-height: 1.2em;\n",
       "}\n",
       "\n",
       "#sk-container-id-2 div.sk-label-container {\n",
       "  text-align: center;\n",
       "}\n",
       "\n",
       "/* Estimator-specific */\n",
       "#sk-container-id-2 div.sk-estimator {\n",
       "  font-family: monospace;\n",
       "  border: 1px dotted var(--sklearn-color-border-box);\n",
       "  border-radius: 0.25em;\n",
       "  box-sizing: border-box;\n",
       "  margin-bottom: 0.5em;\n",
       "  /* unfitted */\n",
       "  background-color: var(--sklearn-color-unfitted-level-0);\n",
       "}\n",
       "\n",
       "#sk-container-id-2 div.sk-estimator.fitted {\n",
       "  /* fitted */\n",
       "  background-color: var(--sklearn-color-fitted-level-0);\n",
       "}\n",
       "\n",
       "/* on hover */\n",
       "#sk-container-id-2 div.sk-estimator:hover {\n",
       "  /* unfitted */\n",
       "  background-color: var(--sklearn-color-unfitted-level-2);\n",
       "}\n",
       "\n",
       "#sk-container-id-2 div.sk-estimator.fitted:hover {\n",
       "  /* fitted */\n",
       "  background-color: var(--sklearn-color-fitted-level-2);\n",
       "}\n",
       "\n",
       "/* Specification for estimator info (e.g. \"i\" and \"?\") */\n",
       "\n",
       "/* Common style for \"i\" and \"?\" */\n",
       "\n",
       ".sk-estimator-doc-link,\n",
       "a:link.sk-estimator-doc-link,\n",
       "a:visited.sk-estimator-doc-link {\n",
       "  float: right;\n",
       "  font-size: smaller;\n",
       "  line-height: 1em;\n",
       "  font-family: monospace;\n",
       "  background-color: var(--sklearn-color-background);\n",
       "  border-radius: 1em;\n",
       "  height: 1em;\n",
       "  width: 1em;\n",
       "  text-decoration: none !important;\n",
       "  margin-left: 1ex;\n",
       "  /* unfitted */\n",
       "  border: var(--sklearn-color-unfitted-level-1) 1pt solid;\n",
       "  color: var(--sklearn-color-unfitted-level-1);\n",
       "}\n",
       "\n",
       ".sk-estimator-doc-link.fitted,\n",
       "a:link.sk-estimator-doc-link.fitted,\n",
       "a:visited.sk-estimator-doc-link.fitted {\n",
       "  /* fitted */\n",
       "  border: var(--sklearn-color-fitted-level-1) 1pt solid;\n",
       "  color: var(--sklearn-color-fitted-level-1);\n",
       "}\n",
       "\n",
       "/* On hover */\n",
       "div.sk-estimator:hover .sk-estimator-doc-link:hover,\n",
       ".sk-estimator-doc-link:hover,\n",
       "div.sk-label-container:hover .sk-estimator-doc-link:hover,\n",
       ".sk-estimator-doc-link:hover {\n",
       "  /* unfitted */\n",
       "  background-color: var(--sklearn-color-unfitted-level-3);\n",
       "  color: var(--sklearn-color-background);\n",
       "  text-decoration: none;\n",
       "}\n",
       "\n",
       "div.sk-estimator.fitted:hover .sk-estimator-doc-link.fitted:hover,\n",
       ".sk-estimator-doc-link.fitted:hover,\n",
       "div.sk-label-container:hover .sk-estimator-doc-link.fitted:hover,\n",
       ".sk-estimator-doc-link.fitted:hover {\n",
       "  /* fitted */\n",
       "  background-color: var(--sklearn-color-fitted-level-3);\n",
       "  color: var(--sklearn-color-background);\n",
       "  text-decoration: none;\n",
       "}\n",
       "\n",
       "/* Span, style for the box shown on hovering the info icon */\n",
       ".sk-estimator-doc-link span {\n",
       "  display: none;\n",
       "  z-index: 9999;\n",
       "  position: relative;\n",
       "  font-weight: normal;\n",
       "  right: .2ex;\n",
       "  padding: .5ex;\n",
       "  margin: .5ex;\n",
       "  width: min-content;\n",
       "  min-width: 20ex;\n",
       "  max-width: 50ex;\n",
       "  color: var(--sklearn-color-text);\n",
       "  box-shadow: 2pt 2pt 4pt #999;\n",
       "  /* unfitted */\n",
       "  background: var(--sklearn-color-unfitted-level-0);\n",
       "  border: .5pt solid var(--sklearn-color-unfitted-level-3);\n",
       "}\n",
       "\n",
       ".sk-estimator-doc-link.fitted span {\n",
       "  /* fitted */\n",
       "  background: var(--sklearn-color-fitted-level-0);\n",
       "  border: var(--sklearn-color-fitted-level-3);\n",
       "}\n",
       "\n",
       ".sk-estimator-doc-link:hover span {\n",
       "  display: block;\n",
       "}\n",
       "\n",
       "/* \"?\"-specific style due to the `<a>` HTML tag */\n",
       "\n",
       "#sk-container-id-2 a.estimator_doc_link {\n",
       "  float: right;\n",
       "  font-size: 1rem;\n",
       "  line-height: 1em;\n",
       "  font-family: monospace;\n",
       "  background-color: var(--sklearn-color-background);\n",
       "  border-radius: 1rem;\n",
       "  height: 1rem;\n",
       "  width: 1rem;\n",
       "  text-decoration: none;\n",
       "  /* unfitted */\n",
       "  color: var(--sklearn-color-unfitted-level-1);\n",
       "  border: var(--sklearn-color-unfitted-level-1) 1pt solid;\n",
       "}\n",
       "\n",
       "#sk-container-id-2 a.estimator_doc_link.fitted {\n",
       "  /* fitted */\n",
       "  border: var(--sklearn-color-fitted-level-1) 1pt solid;\n",
       "  color: var(--sklearn-color-fitted-level-1);\n",
       "}\n",
       "\n",
       "/* On hover */\n",
       "#sk-container-id-2 a.estimator_doc_link:hover {\n",
       "  /* unfitted */\n",
       "  background-color: var(--sklearn-color-unfitted-level-3);\n",
       "  color: var(--sklearn-color-background);\n",
       "  text-decoration: none;\n",
       "}\n",
       "\n",
       "#sk-container-id-2 a.estimator_doc_link.fitted:hover {\n",
       "  /* fitted */\n",
       "  background-color: var(--sklearn-color-fitted-level-3);\n",
       "}\n",
       "</style><div id=\"sk-container-id-2\" class=\"sk-top-container\"><div class=\"sk-text-repr-fallback\"><pre>GridSearchCV(cv=3, estimator=BackpropagationModel(layer_conf=[10, 20, 4]),\n",
       "             n_jobs=-1,\n",
       "             param_grid={&#x27;learn_rate&#x27;: [0.1, 0.5, 1],\n",
       "                         &#x27;max_epoch&#x27;: [500, 1000, 2000],\n",
       "                         &#x27;max_error&#x27;: [0.01, 0.1, 0.2],\n",
       "                         &#x27;print_per_epoch&#x27;: [-1]},\n",
       "             scoring=&#x27;accuracy&#x27;, verbose=2)</pre><b>In a Jupyter environment, please rerun this cell to show the HTML representation or trust the notebook. <br />On GitHub, the HTML representation is unable to render, please try loading this page with nbviewer.org.</b></div><div class=\"sk-container\" hidden><div class=\"sk-item sk-dashed-wrapped\"><div class=\"sk-label-container\"><div class=\"sk-label fitted sk-toggleable\"><input class=\"sk-toggleable__control sk-hidden--visually\" id=\"sk-estimator-id-4\" type=\"checkbox\" ><label for=\"sk-estimator-id-4\" class=\"sk-toggleable__label fitted sk-toggleable__label-arrow fitted\">&nbsp;&nbsp;GridSearchCV<a class=\"sk-estimator-doc-link fitted\" rel=\"noreferrer\" target=\"_blank\" href=\"https://scikit-learn.org/1.5/modules/generated/sklearn.model_selection.GridSearchCV.html\">?<span>Documentation for GridSearchCV</span></a><span class=\"sk-estimator-doc-link fitted\">i<span>Fitted</span></span></label><div class=\"sk-toggleable__content fitted\"><pre>GridSearchCV(cv=3, estimator=BackpropagationModel(layer_conf=[10, 20, 4]),\n",
       "             n_jobs=-1,\n",
       "             param_grid={&#x27;learn_rate&#x27;: [0.1, 0.5, 1],\n",
       "                         &#x27;max_epoch&#x27;: [500, 1000, 2000],\n",
       "                         &#x27;max_error&#x27;: [0.01, 0.1, 0.2],\n",
       "                         &#x27;print_per_epoch&#x27;: [-1]},\n",
       "             scoring=&#x27;accuracy&#x27;, verbose=2)</pre></div> </div></div><div class=\"sk-parallel\"><div class=\"sk-parallel-item\"><div class=\"sk-item\"><div class=\"sk-label-container\"><div class=\"sk-label fitted sk-toggleable\"><input class=\"sk-toggleable__control sk-hidden--visually\" id=\"sk-estimator-id-5\" type=\"checkbox\" ><label for=\"sk-estimator-id-5\" class=\"sk-toggleable__label fitted sk-toggleable__label-arrow fitted\">best_estimator_: BackpropagationModel</label><div class=\"sk-toggleable__content fitted\"><pre>BackpropagationModel(layer_conf=[10, 20, 4], learn_rate=0.1, max_epoch=500,\n",
       "                     print_per_epoch=-1)</pre></div> </div></div><div class=\"sk-serial\"><div class=\"sk-item\"><div class=\"sk-estimator fitted sk-toggleable\"><input class=\"sk-toggleable__control sk-hidden--visually\" id=\"sk-estimator-id-6\" type=\"checkbox\" ><label for=\"sk-estimator-id-6\" class=\"sk-toggleable__label fitted sk-toggleable__label-arrow fitted\">BackpropagationModel</label><div class=\"sk-toggleable__content fitted\"><pre>BackpropagationModel(layer_conf=[10, 20, 4], learn_rate=0.1, max_epoch=500,\n",
       "                     print_per_epoch=-1)</pre></div> </div></div></div></div></div></div></div></div></div>"
      ],
      "text/plain": [
       "GridSearchCV(cv=3, estimator=BackpropagationModel(layer_conf=[10, 20, 4]),\n",
       "             n_jobs=-1,\n",
       "             param_grid={'learn_rate': [0.1, 0.5, 1],\n",
       "                         'max_epoch': [500, 1000, 2000],\n",
       "                         'max_error': [0.01, 0.1, 0.2],\n",
       "                         'print_per_epoch': [-1]},\n",
       "             scoring='accuracy', verbose=2)"
      ]
     },
     "execution_count": 11,
     "metadata": {},
     "output_type": "execute_result"
    }
   ],
   "source": [
    "grid_search = GridSearchCV(estimator=model, \n",
    "                           param_grid=param_grid, \n",
    "                           scoring='accuracy',\n",
    "                           cv=3, \n",
    "                           n_jobs=-1,\n",
    "                           verbose=2)\n",
    "\n",
    "grid_search.fit(X_train, y_train)"
   ]
  },
  {
   "cell_type": "markdown",
   "metadata": {},
   "source": [
    "## Multi-class Result"
   ]
  },
  {
   "cell_type": "code",
   "execution_count": 12,
   "metadata": {},
   "outputs": [
    {
     "name": "stdout",
     "output_type": "stream",
     "text": [
      "Best parameters:  {'learn_rate': 0.1, 'max_epoch': 500, 'max_error': 0.1, 'print_per_epoch': -1}\n",
      "Train set accuracy:  0.94625\n",
      "Test set accuracy:  0.8\n"
     ]
    }
   ],
   "source": [
    "print(\"Best parameters: \", grid_search.best_params_)\n",
    "\n",
    "# Best model\n",
    "best_model = grid_search.best_estimator_\n",
    "\n",
    "# Evaluate on train set\n",
    "train_accuracy = best_model.score(X_train, y_train)\n",
    "print(\"Train set accuracy: \", train_accuracy)\n",
    "\n",
    "# Evaluate on test set\n",
    "test_accuracy = best_model.score(X_test, y_test)\n",
    "print(\"Test set accuracy: \", test_accuracy)"
   ]
  }
 ],
 "metadata": {
  "kernelspec": {
   "display_name": "base",
   "language": "python",
   "name": "python3"
  },
  "language_info": {
   "codemirror_mode": {
    "name": "ipython",
    "version": 3
   },
   "file_extension": ".py",
   "mimetype": "text/x-python",
   "name": "python",
   "nbconvert_exporter": "python",
   "pygments_lexer": "ipython3",
   "version": "3.12.2"
  }
 },
 "nbformat": 4,
 "nbformat_minor": 2
}
